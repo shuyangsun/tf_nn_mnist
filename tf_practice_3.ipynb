{
 "cells": [
  {
   "cell_type": "code",
   "execution_count": 1,
   "metadata": {
    "collapsed": false,
    "deletable": true,
    "editable": true
   },
   "outputs": [],
   "source": [
    "import numpy as np\n",
    "import tensorflow as tf\n",
    "import matplotlib.pyplot as plt\n",
    "import time\n",
    "\n",
    "%matplotlib inline"
   ]
  },
  {
   "cell_type": "code",
   "execution_count": 2,
   "metadata": {
    "collapsed": true,
    "deletable": true,
    "editable": true
   },
   "outputs": [],
   "source": [
    "from tensorflow.examples.tutorials.mnist import input_data"
   ]
  },
  {
   "cell_type": "code",
   "execution_count": 3,
   "metadata": {
    "collapsed": false,
    "deletable": true,
    "editable": true
   },
   "outputs": [
    {
     "name": "stdout",
     "output_type": "stream",
     "text": [
      "Extracting /tmp/data/train-images-idx3-ubyte.gz\n",
      "Extracting /tmp/data/train-labels-idx1-ubyte.gz\n",
      "Extracting /tmp/data/t10k-images-idx3-ubyte.gz\n",
      "Extracting /tmp/data/t10k-labels-idx1-ubyte.gz\n"
     ]
    }
   ],
   "source": [
    "mnist_data = input_data.read_data_sets('/tmp/data/', one_hot=True)"
   ]
  },
  {
   "cell_type": "code",
   "execution_count": 4,
   "metadata": {
    "collapsed": true,
    "deletable": true,
    "editable": true
   },
   "outputs": [],
   "source": [
    "n_classes = 10\n",
    "feature_count = 28 * 28"
   ]
  },
  {
   "cell_type": "code",
   "execution_count": 5,
   "metadata": {
    "collapsed": true,
    "deletable": true,
    "editable": true
   },
   "outputs": [],
   "source": [
    "n_units_hl = (500, 500, 500)\n",
    "batch_size = 300\n",
    "precision = 32"
   ]
  },
  {
   "cell_type": "code",
   "execution_count": 6,
   "metadata": {
    "collapsed": true,
    "deletable": true,
    "editable": true
   },
   "outputs": [],
   "source": [
    "type_str = 'float{0}'.format(precision)\n",
    "x = tf.placeholder(type_str, shape=(None, feature_count))\n",
    "y = tf.placeholder(type_str)"
   ]
  },
  {
   "cell_type": "code",
   "execution_count": 7,
   "metadata": {
    "collapsed": false,
    "deletable": true,
    "editable": true
   },
   "outputs": [
    {
     "name": "stdout",
     "output_type": "stream",
     "text": [
      "Tensor(\"Placeholder:0\", shape=(?, 784), dtype=float32)\n",
      "Tensor(\"Placeholder_1:0\", dtype=float32)\n"
     ]
    }
   ],
   "source": [
    "print(x)\n",
    "print(y)"
   ]
  },
  {
   "cell_type": "code",
   "execution_count": 8,
   "metadata": {
    "collapsed": true,
    "deletable": true,
    "editable": true
   },
   "outputs": [],
   "source": [
    "k_key_weights = 'weights'\n",
    "k_key_biases = 'biases'\n",
    "k_key_units = 'units'"
   ]
  },
  {
   "cell_type": "code",
   "execution_count": 9,
   "metadata": {
    "collapsed": true,
    "deletable": true,
    "editable": true
   },
   "outputs": [],
   "source": [
    "def nn_model(data):\n",
    "    layers = []\n",
    "    real_n_units = list(n_units_hl)\n",
    "    real_n_units.append(n_classes)\n",
    "    for idx, n_units in enumerate(real_n_units):\n",
    "        n = n_units\n",
    "        m = feature_count\n",
    "        if idx is not 0:\n",
    "            m = n_units_hl[idx - 1]\n",
    "        layer = {k_key_weights: tf.Variable(tf.random_normal([m, n])),\n",
    "                 k_key_biases: tf.Variable(tf.random_normal([n]))}\n",
    "        layers.append(layer)\n",
    "    \n",
    "    for idx, layer in enumerate(layers):\n",
    "        if idx is 0:\n",
    "            layer[k_key_units] = tf.add(tf.matmul(data, layer[k_key_weights]), layer[k_key_biases])\n",
    "        else:\n",
    "            layer[k_key_units] = tf.add(tf.matmul(layers[idx - 1][k_key_units], layer[k_key_weights]), layer[k_key_biases])\n",
    "        \n",
    "        if idx is not len(layers) - 1:\n",
    "            layer[k_key_units] = tf.nn.relu(layer[k_key_units])\n",
    "    \n",
    "    return layers[-1][k_key_units]"
   ]
  },
  {
   "cell_type": "code",
   "execution_count": 10,
   "metadata": {
    "collapsed": true,
    "deletable": true,
    "editable": true
   },
   "outputs": [],
   "source": [
    "def train_nn(data):\n",
    "    prediction = nn_model(data)\n",
    "    cost = tf.reduce_mean(tf.nn.softmax_cross_entropy_with_logits(logits=prediction, labels=y))\n",
    "    optimizer = tf.train.AdamOptimizer().minimize(cost)\n",
    "    \n",
    "    hm_epochs = 10  # Number of iterations\n",
    "    \n",
    "    with tf.Session() as sess:\n",
    "        start = time.time()\n",
    "        sess.run(tf.global_variables_initializer())\n",
    "        print('Initialized global variables...')\n",
    "        for epoch in range(hm_epochs):\n",
    "            epoch_loss = 0\n",
    "            for _ in range(int(mnist_data.train.num_examples/batch_size)):\n",
    "                x_epoch, y_epoch = mnist_data.train.next_batch(batch_size)\n",
    "                _, c_epoch = sess.run([optimizer, cost], feed_dict = {x: x_epoch, y: y_epoch})\n",
    "                epoch_loss += c_epoch\n",
    "            print('Epoch {0} completed out of {1} epochs, epoch_loss: {2}.'.format(epoch, hm_epochs, epoch_loss))\n",
    "        print()\n",
    "        correct = tf.equal(tf.argmax(prediction, 1), tf.argmax(y, 1))\n",
    "        accuracy = tf.reduce_mean(tf.cast(correct, 'float'))\n",
    "        print('Accuracy: {0:.2f}%'.format(accuracy.eval({x: mnist_data.test.images, y: mnist_data.test.labels}) * 100.0))\n",
    "        end = time.time()\n",
    "        print('Duration: {0:.2f}s'.format(end - start))"
   ]
  },
  {
   "cell_type": "code",
   "execution_count": 11,
   "metadata": {
    "collapsed": false
   },
   "outputs": [
    {
     "name": "stdout",
     "output_type": "stream",
     "text": [
      "Initialized global variables...\n",
      "Epoch 0 completed out of 10 epochs, epoch_loss: 928440.4586181641.\n",
      "Epoch 1 completed out of 10 epochs, epoch_loss: 217513.58026123047.\n",
      "Epoch 2 completed out of 10 epochs, epoch_loss: 135492.57049560547.\n",
      "Epoch 3 completed out of 10 epochs, epoch_loss: 92363.11723327637.\n",
      "Epoch 4 completed out of 10 epochs, epoch_loss: 66331.73112487793.\n",
      "Epoch 5 completed out of 10 epochs, epoch_loss: 46589.691635131836.\n",
      "Epoch 6 completed out of 10 epochs, epoch_loss: 33106.30202674866.\n",
      "Epoch 7 completed out of 10 epochs, epoch_loss: 23185.222345352173.\n",
      "Epoch 8 completed out of 10 epochs, epoch_loss: 16078.706481218338.\n",
      "Epoch 9 completed out of 10 epochs, epoch_loss: 11841.0369079113.\n",
      "\n",
      "Accuracy: 93.77%\n",
      "Duration: 5.92s\n"
     ]
    }
   ],
   "source": [
    "train_nn(x)"
   ]
  },
  {
   "cell_type": "code",
   "execution_count": null,
   "metadata": {
    "collapsed": true
   },
   "outputs": [],
   "source": []
  }
 ],
 "metadata": {
  "kernelspec": {
   "display_name": "Python 3",
   "language": "python",
   "name": "python3"
  },
  "language_info": {
   "codemirror_mode": {
    "name": "ipython",
    "version": 3
   },
   "file_extension": ".py",
   "mimetype": "text/x-python",
   "name": "python",
   "nbconvert_exporter": "python",
   "pygments_lexer": "ipython3",
   "version": "3.6.1"
  }
 },
 "nbformat": 4,
 "nbformat_minor": 2
}
