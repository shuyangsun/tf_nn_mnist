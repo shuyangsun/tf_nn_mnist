{
 "cells": [
  {
   "cell_type": "code",
   "execution_count": 1,
   "metadata": {
    "collapsed": false
   },
   "outputs": [],
   "source": [
    "import numpy as np\n",
    "import tensorflow as tf\n",
    "import matplotlib.pyplot as plt\n",
    "\n",
    "%matplotlib inline"
   ]
  },
  {
   "cell_type": "code",
   "execution_count": 2,
   "metadata": {
    "collapsed": true
   },
   "outputs": [],
   "source": [
    "from tensorflow.examples.tutorials.mnist import input_data"
   ]
  },
  {
   "cell_type": "code",
   "execution_count": 3,
   "metadata": {
    "collapsed": false
   },
   "outputs": [
    {
     "name": "stdout",
     "output_type": "stream",
     "text": [
      "Successfully downloaded train-images-idx3-ubyte.gz 9912422 bytes.\n",
      "Extracting /tmp/data/train-images-idx3-ubyte.gz\n",
      "Successfully downloaded train-labels-idx1-ubyte.gz 28881 bytes.\n",
      "Extracting /tmp/data/train-labels-idx1-ubyte.gz\n",
      "Successfully downloaded t10k-images-idx3-ubyte.gz 1648877 bytes.\n",
      "Extracting /tmp/data/t10k-images-idx3-ubyte.gz\n",
      "Successfully downloaded t10k-labels-idx1-ubyte.gz 4542 bytes.\n",
      "Extracting /tmp/data/t10k-labels-idx1-ubyte.gz\n"
     ]
    }
   ],
   "source": [
    "mnist_data = input_data.read_data_sets('/tmp/data/', one_hot=True)"
   ]
  },
  {
   "cell_type": "code",
   "execution_count": 32,
   "metadata": {
    "collapsed": true
   },
   "outputs": [],
   "source": [
    "n_classes = 10\n",
    "feature_count = 28 * 28"
   ]
  },
  {
   "cell_type": "code",
   "execution_count": 20,
   "metadata": {
    "collapsed": true
   },
   "outputs": [],
   "source": [
    "n_units_hl = (300, 250, 100, 50, 25)\n",
    "batch_size = 100\n",
    "precision = 16"
   ]
  },
  {
   "cell_type": "code",
   "execution_count": 29,
   "metadata": {
    "collapsed": true
   },
   "outputs": [],
   "source": [
    "type_str = 'float{0}'.format(precision)\n",
    "x = tf.placeholder(type_str, shape=(None, feature_count))\n",
    "y = tf.placeholder(type_str)"
   ]
  },
  {
   "cell_type": "code",
   "execution_count": 31,
   "metadata": {
    "collapsed": false
   },
   "outputs": [
    {
     "name": "stdout",
     "output_type": "stream",
     "text": [
      "Tensor(\"Placeholder_12:0\", shape=(?, 784), dtype=float16)\n",
      "Tensor(\"Placeholder_13:0\", dtype=float16)\n"
     ]
    }
   ],
   "source": [
    "print(x)\n",
    "print(y)"
   ]
  },
  {
   "cell_type": "code",
   "execution_count": 37,
   "metadata": {
    "collapsed": true
   },
   "outputs": [],
   "source": [
    "k_key_weights = 'weights'\n",
    "k_key_biases = 'biases'\n",
    "k_key_units = 'units'"
   ]
  },
  {
   "cell_type": "code",
   "execution_count": 39,
   "metadata": {
    "collapsed": true
   },
   "outputs": [],
   "source": [
    "def nn_model(data):\n",
    "    layers = []\n",
    "    real_n_units = list(n_units_hl)\n",
    "    real_n_units.append(n_classes)\n",
    "    for idx, n_units in enumerate(n_units_hl):\n",
    "        n = n_units\n",
    "        m = feature_count\n",
    "        if idx is not 0:\n",
    "            m = n_units_hl[idx - 1]\n",
    "        layer = {k_key_weights: tf.Variable(tf.random_normal([m, n])),\n",
    "                 k_key_biases: tf.Variable(tf.random_normal([n]))}\n",
    "        layers.append(layer)\n",
    "    \n",
    "    for idx, layer in enumerate(layers):\n",
    "        if idx is 0:\n",
    "            layer[k_key_units] = tf.add(tf.matmul(data, layer[k_key_weights]), layer[k_key_biases])\n",
    "        else:\n",
    "            layer[k_key_units] = tf.add(tf.matmul(layers[idx - 1][k_key_units], layer[k_key_weights]), layer[k_key_biases])\n",
    "        \n",
    "        if idx is not len(layers) - 1:\n",
    "            layer[k_key_units] = tf.nn.relu(layer[k_key_units])\n",
    "    \n",
    "    return layers[-1][k_key_units]"
   ]
  },
  {
   "cell_type": "code",
   "execution_count": null,
   "metadata": {
    "collapsed": true
   },
   "outputs": [],
   "source": []
  }
 ],
 "metadata": {
  "kernelspec": {
   "display_name": "Python 3",
   "language": "python",
   "name": "python3"
  },
  "language_info": {
   "codemirror_mode": {
    "name": "ipython",
    "version": 3
   },
   "file_extension": ".py",
   "mimetype": "text/x-python",
   "name": "python",
   "nbconvert_exporter": "python",
   "pygments_lexer": "ipython3",
   "version": "3.6.1"
  }
 },
 "nbformat": 4,
 "nbformat_minor": 2
}
