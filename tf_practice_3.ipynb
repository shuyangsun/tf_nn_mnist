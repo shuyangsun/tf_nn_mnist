{
 "cells": [
  {
   "cell_type": "code",
   "execution_count": 1,
   "metadata": {},
   "outputs": [],
   "source": [
    "import numpy as np\n",
    "import tensorflow as tf\n",
    "import matplotlib.pyplot as plt\n",
    "import time\n",
    "\n",
    "%matplotlib inline"
   ]
  },
  {
   "cell_type": "code",
   "execution_count": 2,
   "metadata": {},
   "outputs": [],
   "source": [
    "from tensorflow.examples.tutorials.mnist import input_data"
   ]
  },
  {
   "cell_type": "code",
   "execution_count": 3,
   "metadata": {},
   "outputs": [
    {
     "name": "stdout",
     "output_type": "stream",
     "text": [
      "Extracting /tmp/data/train-images-idx3-ubyte.gz\n",
      "Extracting /tmp/data/train-labels-idx1-ubyte.gz\n",
      "Extracting /tmp/data/t10k-images-idx3-ubyte.gz\n",
      "Extracting /tmp/data/t10k-labels-idx1-ubyte.gz\n"
     ]
    }
   ],
   "source": [
    "mnist_data = input_data.read_data_sets('/tmp/data/', one_hot=True)"
   ]
  },
  {
   "cell_type": "code",
   "execution_count": 4,
   "metadata": {},
   "outputs": [],
   "source": [
    "n_classes = 10\n",
    "feature_count = 28 * 28"
   ]
  },
  {
   "cell_type": "code",
   "execution_count": 5,
   "metadata": {},
   "outputs": [],
   "source": [
    "n_units_hl = (500, 500, 500)\n",
    "batch_size = 300\n",
    "precision = 32"
   ]
  },
  {
   "cell_type": "code",
   "execution_count": 6,
   "metadata": {},
   "outputs": [],
   "source": [
    "type_str = 'float{0}'.format(precision)\n",
    "with tf.name_scope('input'):\n",
    "    x = tf.placeholder(type_str, shape=(None, feature_count), name='x')\n",
    "    y = tf.placeholder(type_str, name='label')"
   ]
  },
  {
   "cell_type": "code",
   "execution_count": 7,
   "metadata": {},
   "outputs": [
    {
     "name": "stdout",
     "output_type": "stream",
     "text": [
      "Tensor(\"input/x:0\", shape=(?, 784), dtype=float32)\n",
      "Tensor(\"input/label:0\", dtype=float32)\n"
     ]
    }
   ],
   "source": [
    "print(x)\n",
    "print(y)"
   ]
  },
  {
   "cell_type": "code",
   "execution_count": 8,
   "metadata": {},
   "outputs": [],
   "source": [
    "k_key_weights = 'weights'\n",
    "k_key_biases = 'biases'\n",
    "k_key_units = 'units'"
   ]
  },
  {
   "cell_type": "code",
   "execution_count": 9,
   "metadata": {},
   "outputs": [],
   "source": [
    "def nn_model(data):\n",
    "    layers = []\n",
    "    real_n_units = list(n_units_hl)\n",
    "    real_n_units.append(n_classes)\n",
    "    for idx, n_units in enumerate(real_n_units):\n",
    "        n = n_units\n",
    "        m = feature_count\n",
    "        if idx is not 0:\n",
    "            m = n_units_hl[idx - 1]\n",
    "        with tf.device('/gpu:0'):\n",
    "            with tf.name_scope('layer'):\n",
    "                layer = {k_key_weights: tf.Variable(tf.random_normal([m, n]), name='weight'),\n",
    "                         k_key_biases: tf.Variable(tf.random_normal([n]), name='bias')}\n",
    "                layers.append(layer)\n",
    "    with tf.device('/gpu:0'):\n",
    "        with tf.name_scope('layer'):\n",
    "            for idx, layer in enumerate(layers):\n",
    "                if idx is 0:\n",
    "                    last_layer = data\n",
    "                else:\n",
    "                    last_layer = layers[idx - 1][k_key_units]\n",
    "                name_kwargs = {'name':'output'} if idx is len(layers) - 1 else {'name':'neuron'}\n",
    "                layer[k_key_units] = tf.add(tf.matmul(last_layer, layer[k_key_weights]), layer[k_key_biases], **name_kwargs)\n",
    "\n",
    "                if idx is not len(layers) - 1:\n",
    "                    layer[k_key_units] = tf.nn.relu(layer[k_key_units], name='activation_func')\n",
    "    \n",
    "    return layers[-1][k_key_units]"
   ]
  },
  {
   "cell_type": "code",
   "execution_count": 10,
   "metadata": {},
   "outputs": [],
   "source": [
    "def train_nn(data):\n",
    "    prediction = nn_model(data)\n",
    "    with tf.name_scope('train'):\n",
    "        cost = tf.reduce_mean(tf.nn.softmax_cross_entropy_with_logits(logits=prediction, labels=y), name='cost')\n",
    "        optimizer = tf.train.AdamOptimizer().minimize(cost)\n",
    "    \n",
    "    with tf.name_scope('performance'):\n",
    "        correct = tf.equal(tf.argmax(prediction, 1), tf.argmax(y, 1))\n",
    "        accuracy = tf.reduce_mean(tf.cast(correct, 'float'), name='acccuracy')\n",
    "\n",
    "    hm_epochs = 10  # Number of iterations\n",
    "    \n",
    "    with tf.Session() as sess:\n",
    "        start = time.time()\n",
    "        sess.run(tf.global_variables_initializer())\n",
    "        print('Initialized global variables...')\n",
    "        for epoch in range(hm_epochs):\n",
    "            epoch_loss = 0\n",
    "            for _ in range(int(mnist_data.train.num_examples/batch_size)):\n",
    "                x_epoch, y_epoch = mnist_data.train.next_batch(batch_size)\n",
    "                _, c_epoch = sess.run([optimizer, cost], feed_dict = {x: x_epoch, y: y_epoch})\n",
    "                epoch_loss += c_epoch\n",
    "            print('Epoch {0} completed out of {1} epochs, epoch_loss: {2}.'.format(epoch, hm_epochs, epoch_loss))\n",
    "        print()\n",
    "        \n",
    "        print('Accuracy: {0:.2f}%'.format(accuracy.eval({x: mnist_data.test.images, y: mnist_data.test.labels}) * 100.0))\n",
    "        end = time.time()\n",
    "        print('Duration: {0:.2f}s'.format(end - start))\n",
    "        \n",
    "        # TensorBoard\n",
    "        \n",
    "        tb_writer = tf.summary.FileWriter('tensorboard/dnn')\n",
    "        tb_writer.add_graph(sess.graph)"
   ]
  },
  {
   "cell_type": "code",
   "execution_count": 11,
   "metadata": {},
   "outputs": [
    {
     "name": "stdout",
     "output_type": "stream",
     "text": [
      "Initialized global variables...\n",
      "Epoch 0 completed out of 10 epochs, epoch_loss: 873478.1030273438.\n",
      "Epoch 1 completed out of 10 epochs, epoch_loss: 209211.9384765625.\n",
      "Epoch 2 completed out of 10 epochs, epoch_loss: 126834.90715026855.\n",
      "Epoch 3 completed out of 10 epochs, epoch_loss: 86511.73857116699.\n",
      "Epoch 4 completed out of 10 epochs, epoch_loss: 60179.20980834961.\n",
      "Epoch 5 completed out of 10 epochs, epoch_loss: 42832.63708496094.\n",
      "Epoch 6 completed out of 10 epochs, epoch_loss: 30222.991861343384.\n",
      "Epoch 7 completed out of 10 epochs, epoch_loss: 22147.379642486572.\n",
      "Epoch 8 completed out of 10 epochs, epoch_loss: 14946.484138607979.\n",
      "Epoch 9 completed out of 10 epochs, epoch_loss: 10084.081165075302.\n",
      "\n",
      "Accuracy: 93.85%\n",
      "Duration: 4.23s\n"
     ]
    }
   ],
   "source": [
    "train_nn(x)"
   ]
  },
  {
   "cell_type": "code",
   "execution_count": null,
   "metadata": {},
   "outputs": [],
   "source": []
  }
 ],
 "metadata": {
  "kernelspec": {
   "display_name": "Python 3",
   "language": "python",
   "name": "python3"
  },
  "language_info": {
   "codemirror_mode": {
    "name": "ipython",
    "version": 3
   },
   "file_extension": ".py",
   "mimetype": "text/x-python",
   "name": "python",
   "nbconvert_exporter": "python",
   "pygments_lexer": "ipython3",
   "version": "3.6.1"
  }
 },
 "nbformat": 4,
 "nbformat_minor": 2
}
